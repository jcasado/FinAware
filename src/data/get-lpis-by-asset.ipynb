{
 "metadata": {
  "language_info": {
   "codemirror_mode": {
    "name": "ipython",
    "version": 3
   },
   "file_extension": ".py",
   "mimetype": "text/x-python",
   "name": "python",
   "nbconvert_exporter": "python",
   "pygments_lexer": "ipython3",
   "version": "3.7.13-final"
  },
  "orig_nbformat": 2,
  "kernelspec": {
   "name": "python371364bitfinawareconda8907fd495d194fac92ae078e5795ec2f",
   "display_name": "Python 3.7.13 64-bit ('finaware': conda)"
  }
 },
 "nbformat": 4,
 "nbformat_minor": 2,
 "cells": [
  {
   "cell_type": "code",
   "execution_count": null,
   "metadata": {},
   "outputs": [],
   "source": [
    "# @author Julia Casado\n",
    "# \n",
    "# https://www.ruokavirasto.fi/en/about-us/open-information/inspire/\n",
    "# Link: Agricultural parcel containing spatial data 2021\n",
    "# https://eur03.safelinks.protection.outlook.com/?url=https%3A%2F%2Fdownload.inspire.ruokavirasto-awsa.com%2Fdata%2F2021%2FLandUse.ExistingLandUse.GSAAAgriculturalParcel.gpkg&data=05%7C01%7Cpia-maria.jokipii%40ruokavirasto.fi%7C1792ce7a0af14b60e01508da59bd08bb%7C7c14dfa4c0fc47259f0476a443deb095%7C0%7C0%7C637920965679601749%7CUnknown%7CTWFpbGZsb3d8eyJWIjoiMC4wLjAwMDAiLCJQIjoiV2luMzIiLCJBTiI6Ik1haWwiLCJXVCI6Mn0%3D%7C3000%7C%7C%7C&sdata=ioiHaA9uDv55WB8k%2BJYfw38qapXxX8Zd6679Qx95P7s%3D&reserved=0\n",
    "\n"
   ]
  },
  {
   "cell_type": "code",
   "execution_count": 35,
   "metadata": {},
   "outputs": [],
   "source": [
    "import geopandas as gpd\n",
    "import numpy as np\n",
    "import pandas as pd\n",
    "from shapely.geometry import Point, Polygon"
   ]
  },
  {
   "cell_type": "code",
   "execution_count": 30,
   "metadata": {},
   "outputs": [],
   "source": [
    "QUERY_CROP = 'Tärkkelysperuna'\n",
    "QUERY_FIELD = 'KASVIKOODI_SELITE_FI'"
   ]
  },
  {
   "cell_type": "code",
   "execution_count": 31,
   "metadata": {},
   "outputs": [
    {
     "output_type": "stream",
     "name": "stdout",
     "text": [
      "epsg:3067\n"
     ]
    },
    {
     "output_type": "execute_result",
     "data": {
      "text/plain": [
       "         VUOSI PERUSLOHKOTUNNUS  LOHKONUMERO  PINTA_ALA KASVIKOODI  \\\n",
       "0         2021       9750800920            2       0.34       6111   \n",
       "1         2021       9750801021            1       6.07       1211   \n",
       "2         2021       9750801324            1       1.30       1120   \n",
       "3         2021       9750801526            1       1.57       1310   \n",
       "4         2021       9750801728            1       0.08       1400   \n",
       "...        ...              ...          ...        ...        ...   \n",
       "1086360   2021       9780256685            1       3.22       6050   \n",
       "1086361   2021       9780256685            2       0.31       9405   \n",
       "1086362   2021       9780256786            1       0.85       6121   \n",
       "1086363   2021       9780256887            1       2.98       1400   \n",
       "1086364   2021       9780257392            1       1.62       1400   \n",
       "\n",
       "                                      KASVIKOODI_SELITE_FI  \\\n",
       "0         1-vuot. kuivaheinä-, säilörehu-, tuorerehunurmet   \n",
       "1                                           Kevätruisvehnä   \n",
       "2                                               Kevätvehnä   \n",
       "3                                                 Rehuohra   \n",
       "4                                                    Kaura   \n",
       "...                                                    ...   \n",
       "1086360                                Viherlannoitusnurmi   \n",
       "1086361         Luonnonhoitopelto (nurmikasvit, väh. 2 v.)   \n",
       "1086362  Moniv. kuivaheinä-, säilörehu- ja tuorerehunurmet   \n",
       "1086363                                              Kaura   \n",
       "1086364                                              Kaura   \n",
       "\n",
       "                                   KASVIKOODI_SELITE_SV  \\\n",
       "0         Ettårig torrhö-, ensilage- och färskfodervall   \n",
       "1                                            Vårrågvete   \n",
       "2                                               Vårvete   \n",
       "3                                             Foderkorn   \n",
       "4                                                 Havre   \n",
       "...                                                 ...   \n",
       "1086360                               Gröngödslingsvall   \n",
       "1086361         Naturvårdsåker (vallväxter, minst 2 år)   \n",
       "1086362  Flerårig torrhö-, ensilage- och färskfodervall   \n",
       "1086363                                           Havre   \n",
       "1086364                                           Havre   \n",
       "\n",
       "                                                  geometry  \n",
       "0        POLYGON ((278423.630 6997822.586, 278422.868 6...  \n",
       "1        POLYGON ((270894.941 6980961.381, 270888.388 6...  \n",
       "2        POLYGON ((285759.980 6987149.832, 285780.457 6...  \n",
       "3        POLYGON ((283321.739 6988247.270, 283322.352 6...  \n",
       "4        POLYGON ((271546.555 6987023.699, 271547.693 6...  \n",
       "...                                                    ...  \n",
       "1086360  POLYGON ((556630.102 6746963.178, 556629.399 6...  \n",
       "1086361  POLYGON ((556811.500 6746975.000, 556809.500 6...  \n",
       "1086362  POLYGON ((553286.591 6747546.710, 553285.522 6...  \n",
       "1086363  POLYGON ((551218.375 6737194.648, 551241.693 6...  \n",
       "1086364  POLYGON ((564882.821 6745150.482, 564876.653 6...  \n",
       "\n",
       "[1086365 rows x 8 columns]"
      ],
      "text/html": "<div>\n<style scoped>\n    .dataframe tbody tr th:only-of-type {\n        vertical-align: middle;\n    }\n\n    .dataframe tbody tr th {\n        vertical-align: top;\n    }\n\n    .dataframe thead th {\n        text-align: right;\n    }\n</style>\n<table border=\"1\" class=\"dataframe\">\n  <thead>\n    <tr style=\"text-align: right;\">\n      <th></th>\n      <th>VUOSI</th>\n      <th>PERUSLOHKOTUNNUS</th>\n      <th>LOHKONUMERO</th>\n      <th>PINTA_ALA</th>\n      <th>KASVIKOODI</th>\n      <th>KASVIKOODI_SELITE_FI</th>\n      <th>KASVIKOODI_SELITE_SV</th>\n      <th>geometry</th>\n    </tr>\n  </thead>\n  <tbody>\n    <tr>\n      <th>0</th>\n      <td>2021</td>\n      <td>9750800920</td>\n      <td>2</td>\n      <td>0.34</td>\n      <td>6111</td>\n      <td>1-vuot. kuivaheinä-, säilörehu-, tuorerehunurmet</td>\n      <td>Ettårig torrhö-, ensilage- och färskfodervall</td>\n      <td>POLYGON ((278423.630 6997822.586, 278422.868 6...</td>\n    </tr>\n    <tr>\n      <th>1</th>\n      <td>2021</td>\n      <td>9750801021</td>\n      <td>1</td>\n      <td>6.07</td>\n      <td>1211</td>\n      <td>Kevätruisvehnä</td>\n      <td>Vårrågvete</td>\n      <td>POLYGON ((270894.941 6980961.381, 270888.388 6...</td>\n    </tr>\n    <tr>\n      <th>2</th>\n      <td>2021</td>\n      <td>9750801324</td>\n      <td>1</td>\n      <td>1.30</td>\n      <td>1120</td>\n      <td>Kevätvehnä</td>\n      <td>Vårvete</td>\n      <td>POLYGON ((285759.980 6987149.832, 285780.457 6...</td>\n    </tr>\n    <tr>\n      <th>3</th>\n      <td>2021</td>\n      <td>9750801526</td>\n      <td>1</td>\n      <td>1.57</td>\n      <td>1310</td>\n      <td>Rehuohra</td>\n      <td>Foderkorn</td>\n      <td>POLYGON ((283321.739 6988247.270, 283322.352 6...</td>\n    </tr>\n    <tr>\n      <th>4</th>\n      <td>2021</td>\n      <td>9750801728</td>\n      <td>1</td>\n      <td>0.08</td>\n      <td>1400</td>\n      <td>Kaura</td>\n      <td>Havre</td>\n      <td>POLYGON ((271546.555 6987023.699, 271547.693 6...</td>\n    </tr>\n    <tr>\n      <th>...</th>\n      <td>...</td>\n      <td>...</td>\n      <td>...</td>\n      <td>...</td>\n      <td>...</td>\n      <td>...</td>\n      <td>...</td>\n      <td>...</td>\n    </tr>\n    <tr>\n      <th>1086360</th>\n      <td>2021</td>\n      <td>9780256685</td>\n      <td>1</td>\n      <td>3.22</td>\n      <td>6050</td>\n      <td>Viherlannoitusnurmi</td>\n      <td>Gröngödslingsvall</td>\n      <td>POLYGON ((556630.102 6746963.178, 556629.399 6...</td>\n    </tr>\n    <tr>\n      <th>1086361</th>\n      <td>2021</td>\n      <td>9780256685</td>\n      <td>2</td>\n      <td>0.31</td>\n      <td>9405</td>\n      <td>Luonnonhoitopelto (nurmikasvit, väh. 2 v.)</td>\n      <td>Naturvårdsåker (vallväxter, minst 2 år)</td>\n      <td>POLYGON ((556811.500 6746975.000, 556809.500 6...</td>\n    </tr>\n    <tr>\n      <th>1086362</th>\n      <td>2021</td>\n      <td>9780256786</td>\n      <td>1</td>\n      <td>0.85</td>\n      <td>6121</td>\n      <td>Moniv. kuivaheinä-, säilörehu- ja tuorerehunurmet</td>\n      <td>Flerårig torrhö-, ensilage- och färskfodervall</td>\n      <td>POLYGON ((553286.591 6747546.710, 553285.522 6...</td>\n    </tr>\n    <tr>\n      <th>1086363</th>\n      <td>2021</td>\n      <td>9780256887</td>\n      <td>1</td>\n      <td>2.98</td>\n      <td>1400</td>\n      <td>Kaura</td>\n      <td>Havre</td>\n      <td>POLYGON ((551218.375 6737194.648, 551241.693 6...</td>\n    </tr>\n    <tr>\n      <th>1086364</th>\n      <td>2021</td>\n      <td>9780257392</td>\n      <td>1</td>\n      <td>1.62</td>\n      <td>1400</td>\n      <td>Kaura</td>\n      <td>Havre</td>\n      <td>POLYGON ((564882.821 6745150.482, 564876.653 6...</td>\n    </tr>\n  </tbody>\n</table>\n<p>1086365 rows × 8 columns</p>\n</div>"
     },
     "metadata": {},
     "execution_count": 31
    }
   ],
   "source": [
    "\n",
    "gdf = gpd.read_file(\"../../../LandUse.ExistingLandUse.GSAAAgriculturalParcel.gpkg\")\n",
    "print(gdf.crs) # epsg:3067\n",
    "gdf"
   ]
  },
  {
   "cell_type": "code",
   "execution_count": 34,
   "metadata": {},
   "outputs": [
    {
     "output_type": "stream",
     "name": "stdout",
     "text": [
      "         VUOSI PERUSLOHKOTUNNUS  LOHKONUMERO  PINTA_ALA KASVIKOODI  \\\n98        2021       9750813145            1      13.43       3130   \n488       2021       0040026038            1       4.34       3130   \n489       2021       0040026139            1       0.65       3130   \n504       2021       0040028967            1       3.84       3130   \n512       2021       0040030078            1       1.97       3130   \n...        ...              ...          ...        ...        ...   \n1079154   2021       9750438481            1       1.12       3130   \n1079390   2021       9750587015            1       2.45       3130   \n1079510   2021       9750440404            1       1.15       3130   \n1079511   2021       9750440606            1       0.97       3130   \n1079644   2021       9750789705            1       1.66       3130   \n\n        KASVIKOODI_SELITE_FI KASVIKOODI_SELITE_SV  \\\n98           Tärkkelysperuna     Stärkelsepotatis   \n488          Tärkkelysperuna     Stärkelsepotatis   \n489          Tärkkelysperuna     Stärkelsepotatis   \n504          Tärkkelysperuna     Stärkelsepotatis   \n512          Tärkkelysperuna     Stärkelsepotatis   \n...                      ...                  ...   \n1079154      Tärkkelysperuna     Stärkelsepotatis   \n1079390      Tärkkelysperuna     Stärkelsepotatis   \n1079510      Tärkkelysperuna     Stärkelsepotatis   \n1079511      Tärkkelysperuna     Stärkelsepotatis   \n1079644      Tärkkelysperuna     Stärkelsepotatis   \n\n                                                  geometry  \n98       POLYGON ((283690.796 6976706.552, 283721.646 6...  \n488      POLYGON ((279218.655 7020083.389, 279214.071 7...  \n489      POLYGON ((279589.878 7019807.036, 279688.697 7...  \n504      POLYGON ((287267.531 7029473.927, 287267.815 7...  \n512      POLYGON ((296211.078 7025961.233, 296175.356 7...  \n...                                                    ...  \n1079154  POLYGON ((283427.784 6991000.573, 283427.471 6...  \n1079390  POLYGON ((273546.241 6993984.046, 273547.741 6...  \n1079510  POLYGON ((274710.860 6992387.093, 274709.433 6...  \n1079511  POLYGON ((274659.919 6992437.217, 274659.403 6...  \n1079644  POLYGON ((273612.689 6994215.885, 273614.280 6...  \n\n[2659 rows x 8 columns]\n"
     ]
    },
    {
     "output_type": "execute_result",
     "data": {
      "text/plain": [
       "         VUOSI PERUSLOHKOTUNNUS  LOHKONUMERO  PINTA_ALA KASVIKOODI  \\\n",
       "98        2021       9750813145            1      13.43       3130   \n",
       "488       2021       0040026038            1       4.34       3130   \n",
       "489       2021       0040026139            1       0.65       3130   \n",
       "504       2021       0040028967            1       3.84       3130   \n",
       "512       2021       0040030078            1       1.97       3130   \n",
       "...        ...              ...          ...        ...        ...   \n",
       "1079154   2021       9750438481            1       1.12       3130   \n",
       "1079390   2021       9750587015            1       2.45       3130   \n",
       "1079510   2021       9750440404            1       1.15       3130   \n",
       "1079511   2021       9750440606            1       0.97       3130   \n",
       "1079644   2021       9750789705            1       1.66       3130   \n",
       "\n",
       "        KASVIKOODI_SELITE_FI KASVIKOODI_SELITE_SV  \\\n",
       "98           Tärkkelysperuna     Stärkelsepotatis   \n",
       "488          Tärkkelysperuna     Stärkelsepotatis   \n",
       "489          Tärkkelysperuna     Stärkelsepotatis   \n",
       "504          Tärkkelysperuna     Stärkelsepotatis   \n",
       "512          Tärkkelysperuna     Stärkelsepotatis   \n",
       "...                      ...                  ...   \n",
       "1079154      Tärkkelysperuna     Stärkelsepotatis   \n",
       "1079390      Tärkkelysperuna     Stärkelsepotatis   \n",
       "1079510      Tärkkelysperuna     Stärkelsepotatis   \n",
       "1079511      Tärkkelysperuna     Stärkelsepotatis   \n",
       "1079644      Tärkkelysperuna     Stärkelsepotatis   \n",
       "\n",
       "                                                  geometry  \n",
       "98       POLYGON ((22.74817 62.85613, 22.74882 62.85581...  \n",
       "488      POLYGON ((22.60232 63.24164, 22.60224 63.24157...  \n",
       "489      POLYGON ((22.61007 63.23940, 22.61208 63.23912...  \n",
       "504      POLYGON ((22.74973 63.33055, 22.74974 63.33051...  \n",
       "512      POLYGON ((22.93231 63.30430, 22.93166 63.30385...  \n",
       "...                                                    ...  \n",
       "1079154  POLYGON ((22.72438 62.98391, 22.72438 62.98387...  \n",
       "1079390  POLYGON ((22.52590 63.00459, 22.52593 63.00459...  \n",
       "1079510  POLYGON ((22.55100 62.99102, 22.55098 62.99096...  \n",
       "1079511  POLYGON ((22.54993 62.99144, 22.54993 62.99137...  \n",
       "1079644  POLYGON ((22.52689 63.00670, 22.52692 63.00670...  \n",
       "\n",
       "[2659 rows x 8 columns]"
      ],
      "text/html": "<div>\n<style scoped>\n    .dataframe tbody tr th:only-of-type {\n        vertical-align: middle;\n    }\n\n    .dataframe tbody tr th {\n        vertical-align: top;\n    }\n\n    .dataframe thead th {\n        text-align: right;\n    }\n</style>\n<table border=\"1\" class=\"dataframe\">\n  <thead>\n    <tr style=\"text-align: right;\">\n      <th></th>\n      <th>VUOSI</th>\n      <th>PERUSLOHKOTUNNUS</th>\n      <th>LOHKONUMERO</th>\n      <th>PINTA_ALA</th>\n      <th>KASVIKOODI</th>\n      <th>KASVIKOODI_SELITE_FI</th>\n      <th>KASVIKOODI_SELITE_SV</th>\n      <th>geometry</th>\n    </tr>\n  </thead>\n  <tbody>\n    <tr>\n      <th>98</th>\n      <td>2021</td>\n      <td>9750813145</td>\n      <td>1</td>\n      <td>13.43</td>\n      <td>3130</td>\n      <td>Tärkkelysperuna</td>\n      <td>Stärkelsepotatis</td>\n      <td>POLYGON ((22.74817 62.85613, 22.74882 62.85581...</td>\n    </tr>\n    <tr>\n      <th>488</th>\n      <td>2021</td>\n      <td>0040026038</td>\n      <td>1</td>\n      <td>4.34</td>\n      <td>3130</td>\n      <td>Tärkkelysperuna</td>\n      <td>Stärkelsepotatis</td>\n      <td>POLYGON ((22.60232 63.24164, 22.60224 63.24157...</td>\n    </tr>\n    <tr>\n      <th>489</th>\n      <td>2021</td>\n      <td>0040026139</td>\n      <td>1</td>\n      <td>0.65</td>\n      <td>3130</td>\n      <td>Tärkkelysperuna</td>\n      <td>Stärkelsepotatis</td>\n      <td>POLYGON ((22.61007 63.23940, 22.61208 63.23912...</td>\n    </tr>\n    <tr>\n      <th>504</th>\n      <td>2021</td>\n      <td>0040028967</td>\n      <td>1</td>\n      <td>3.84</td>\n      <td>3130</td>\n      <td>Tärkkelysperuna</td>\n      <td>Stärkelsepotatis</td>\n      <td>POLYGON ((22.74973 63.33055, 22.74974 63.33051...</td>\n    </tr>\n    <tr>\n      <th>512</th>\n      <td>2021</td>\n      <td>0040030078</td>\n      <td>1</td>\n      <td>1.97</td>\n      <td>3130</td>\n      <td>Tärkkelysperuna</td>\n      <td>Stärkelsepotatis</td>\n      <td>POLYGON ((22.93231 63.30430, 22.93166 63.30385...</td>\n    </tr>\n    <tr>\n      <th>...</th>\n      <td>...</td>\n      <td>...</td>\n      <td>...</td>\n      <td>...</td>\n      <td>...</td>\n      <td>...</td>\n      <td>...</td>\n      <td>...</td>\n    </tr>\n    <tr>\n      <th>1079154</th>\n      <td>2021</td>\n      <td>9750438481</td>\n      <td>1</td>\n      <td>1.12</td>\n      <td>3130</td>\n      <td>Tärkkelysperuna</td>\n      <td>Stärkelsepotatis</td>\n      <td>POLYGON ((22.72438 62.98391, 22.72438 62.98387...</td>\n    </tr>\n    <tr>\n      <th>1079390</th>\n      <td>2021</td>\n      <td>9750587015</td>\n      <td>1</td>\n      <td>2.45</td>\n      <td>3130</td>\n      <td>Tärkkelysperuna</td>\n      <td>Stärkelsepotatis</td>\n      <td>POLYGON ((22.52590 63.00459, 22.52593 63.00459...</td>\n    </tr>\n    <tr>\n      <th>1079510</th>\n      <td>2021</td>\n      <td>9750440404</td>\n      <td>1</td>\n      <td>1.15</td>\n      <td>3130</td>\n      <td>Tärkkelysperuna</td>\n      <td>Stärkelsepotatis</td>\n      <td>POLYGON ((22.55100 62.99102, 22.55098 62.99096...</td>\n    </tr>\n    <tr>\n      <th>1079511</th>\n      <td>2021</td>\n      <td>9750440606</td>\n      <td>1</td>\n      <td>0.97</td>\n      <td>3130</td>\n      <td>Tärkkelysperuna</td>\n      <td>Stärkelsepotatis</td>\n      <td>POLYGON ((22.54993 62.99144, 22.54993 62.99137...</td>\n    </tr>\n    <tr>\n      <th>1079644</th>\n      <td>2021</td>\n      <td>9750789705</td>\n      <td>1</td>\n      <td>1.66</td>\n      <td>3130</td>\n      <td>Tärkkelysperuna</td>\n      <td>Stärkelsepotatis</td>\n      <td>POLYGON ((22.52689 63.00670, 22.52692 63.00670...</td>\n    </tr>\n  </tbody>\n</table>\n<p>2659 rows × 8 columns</p>\n</div>"
     },
     "metadata": {},
     "execution_count": 34
    }
   ],
   "source": [
    "starch_fields = gdf[gdf[QUERY_FIELD] == QUERY_CROP]\n",
    "print(starch_fields)\n",
    "# 2659 rows \n",
    "starch_fields_projected = starch_fields.to_crs(\"EPSG:4326\") \n",
    "starch_fields_projected"
   ]
  },
  {
   "cell_type": "code",
   "execution_count": 52,
   "metadata": {},
   "outputs": [],
   "source": [
    "starch_fields_projected.to_file(\"starch_fields_projected.gpkg\", driver=\"GPKG\")"
   ]
  },
  {
   "cell_type": "code",
   "execution_count": 41,
   "metadata": {},
   "outputs": [
    {
     "output_type": "execute_result",
     "data": {
      "text/plain": [
       "        point  cell               grid        lat        lon  \\\n",
       "0     2831313   375  COPERNICUS SWI TS  60.300392  24.415195   \n",
       "1     2831317   375  COPERNICUS SWI TS  60.300392  24.641264   \n",
       "2     2831321   375  COPERNICUS SWI TS  60.300392  24.867331   \n",
       "3     2831325   375  COPERNICUS SWI TS  60.300392  25.093397   \n",
       "4     2831329   375  COPERNICUS SWI TS  60.300392  25.319464   \n",
       "...       ...   ...                ...        ...        ...   \n",
       "2106  2831297   375  COPERNICUS SWI TS  60.300392  23.510929   \n",
       "2107  2831301   375  COPERNICUS SWI TS  60.300392  23.736996   \n",
       "2108  2831305   375  COPERNICUS SWI TS  60.300392  23.963062   \n",
       "2109  2831309   375  COPERNICUS SWI TS  60.300392  24.189129   \n",
       "2110  2828039   357  COPERNICUS SWI TS  60.188198  19.825953   \n",
       "\n",
       "                       geometry  \n",
       "0     POINT (24.41520 60.30039)  \n",
       "1     POINT (24.64126 60.30039)  \n",
       "2     POINT (24.86733 60.30039)  \n",
       "3     POINT (25.09340 60.30039)  \n",
       "4     POINT (25.31946 60.30039)  \n",
       "...                         ...  \n",
       "2106  POINT (23.51093 60.30039)  \n",
       "2107  POINT (23.73700 60.30039)  \n",
       "2108  POINT (23.96306 60.30039)  \n",
       "2109  POINT (24.18913 60.30039)  \n",
       "2110  POINT (19.82595 60.18820)  \n",
       "\n",
       "[2111 rows x 6 columns]"
      ],
      "text/html": "<div>\n<style scoped>\n    .dataframe tbody tr th:only-of-type {\n        vertical-align: middle;\n    }\n\n    .dataframe tbody tr th {\n        vertical-align: top;\n    }\n\n    .dataframe thead th {\n        text-align: right;\n    }\n</style>\n<table border=\"1\" class=\"dataframe\">\n  <thead>\n    <tr style=\"text-align: right;\">\n      <th></th>\n      <th>point</th>\n      <th>cell</th>\n      <th>grid</th>\n      <th>lat</th>\n      <th>lon</th>\n      <th>geometry</th>\n    </tr>\n  </thead>\n  <tbody>\n    <tr>\n      <th>0</th>\n      <td>2831313</td>\n      <td>375</td>\n      <td>COPERNICUS SWI TS</td>\n      <td>60.300392</td>\n      <td>24.415195</td>\n      <td>POINT (24.41520 60.30039)</td>\n    </tr>\n    <tr>\n      <th>1</th>\n      <td>2831317</td>\n      <td>375</td>\n      <td>COPERNICUS SWI TS</td>\n      <td>60.300392</td>\n      <td>24.641264</td>\n      <td>POINT (24.64126 60.30039)</td>\n    </tr>\n    <tr>\n      <th>2</th>\n      <td>2831321</td>\n      <td>375</td>\n      <td>COPERNICUS SWI TS</td>\n      <td>60.300392</td>\n      <td>24.867331</td>\n      <td>POINT (24.86733 60.30039)</td>\n    </tr>\n    <tr>\n      <th>3</th>\n      <td>2831325</td>\n      <td>375</td>\n      <td>COPERNICUS SWI TS</td>\n      <td>60.300392</td>\n      <td>25.093397</td>\n      <td>POINT (25.09340 60.30039)</td>\n    </tr>\n    <tr>\n      <th>4</th>\n      <td>2831329</td>\n      <td>375</td>\n      <td>COPERNICUS SWI TS</td>\n      <td>60.300392</td>\n      <td>25.319464</td>\n      <td>POINT (25.31946 60.30039)</td>\n    </tr>\n    <tr>\n      <th>...</th>\n      <td>...</td>\n      <td>...</td>\n      <td>...</td>\n      <td>...</td>\n      <td>...</td>\n      <td>...</td>\n    </tr>\n    <tr>\n      <th>2106</th>\n      <td>2831297</td>\n      <td>375</td>\n      <td>COPERNICUS SWI TS</td>\n      <td>60.300392</td>\n      <td>23.510929</td>\n      <td>POINT (23.51093 60.30039)</td>\n    </tr>\n    <tr>\n      <th>2107</th>\n      <td>2831301</td>\n      <td>375</td>\n      <td>COPERNICUS SWI TS</td>\n      <td>60.300392</td>\n      <td>23.736996</td>\n      <td>POINT (23.73700 60.30039)</td>\n    </tr>\n    <tr>\n      <th>2108</th>\n      <td>2831305</td>\n      <td>375</td>\n      <td>COPERNICUS SWI TS</td>\n      <td>60.300392</td>\n      <td>23.963062</td>\n      <td>POINT (23.96306 60.30039)</td>\n    </tr>\n    <tr>\n      <th>2109</th>\n      <td>2831309</td>\n      <td>375</td>\n      <td>COPERNICUS SWI TS</td>\n      <td>60.300392</td>\n      <td>24.189129</td>\n      <td>POINT (24.18913 60.30039)</td>\n    </tr>\n    <tr>\n      <th>2110</th>\n      <td>2828039</td>\n      <td>357</td>\n      <td>COPERNICUS SWI TS</td>\n      <td>60.188198</td>\n      <td>19.825953</td>\n      <td>POINT (19.82595 60.18820)</td>\n    </tr>\n  </tbody>\n</table>\n<p>2111 rows × 6 columns</p>\n</div>"
     },
     "metadata": {},
     "execution_count": 41
    }
   ],
   "source": [
    "# Filter finland points to only starch_fields\n",
    "pg_finland = pd.read_csv(\"../../../Download_SWI/pointlist_Finland_copernicus_swi_ts.csv\")\n",
    "\n",
    "gdf_finland_points = gpd.GeoDataFrame(\n",
    "    pg_finland, geometry=gpd.points_from_xy(pg_finland.lon, pg_finland.lat))\n",
    "\n",
    "\n",
    "gdf_finland_points.\n"
   ]
  }
 ]
}