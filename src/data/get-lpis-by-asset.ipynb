{
 "metadata": {
  "language_info": {
   "codemirror_mode": {
    "name": "ipython",
    "version": 3
   },
   "file_extension": ".py",
   "mimetype": "text/x-python",
   "name": "python",
   "nbconvert_exporter": "python",
   "pygments_lexer": "ipython3",
   "version": "3.7.13-final"
  },
  "orig_nbformat": 2,
  "kernelspec": {
   "name": "python371364bitfinawareconda8907fd495d194fac92ae078e5795ec2f",
   "display_name": "Python 3.7.13 64-bit ('finaware': conda)"
  }
 },
 "nbformat": 4,
 "nbformat_minor": 2,
 "cells": [
  {
   "cell_type": "code",
   "execution_count": null,
   "metadata": {},
   "outputs": [],
   "source": [
    "# @author Julia Casado\n",
    "# \n",
    "# https://www.ruokavirasto.fi/en/about-us/open-information/inspire/\n",
    "# Link: Agricultural parcel containing spatial data 2021\n",
    "# https://eur03.safelinks.protection.outlook.com/?url=https%3A%2F%2Fdownload.inspire.ruokavirasto-awsa.com%2Fdata%2F2021%2FLandUse.ExistingLandUse.GSAAAgriculturalParcel.gpkg&data=05%7C01%7Cpia-maria.jokipii%40ruokavirasto.fi%7C1792ce7a0af14b60e01508da59bd08bb%7C7c14dfa4c0fc47259f0476a443deb095%7C0%7C0%7C637920965679601749%7CUnknown%7CTWFpbGZsb3d8eyJWIjoiMC4wLjAwMDAiLCJQIjoiV2luMzIiLCJBTiI6Ik1haWwiLCJXVCI6Mn0%3D%7C3000%7C%7C%7C&sdata=ioiHaA9uDv55WB8k%2BJYfw38qapXxX8Zd6679Qx95P7s%3D&reserved=0\n",
    "\n"
   ]
  },
  {
   "cell_type": "code",
   "execution_count": 29,
   "metadata": {},
   "outputs": [],
   "source": [
    "import geopandas as gpd\n",
    "import numpy as np\n",
    "import pandas as pd"
   ]
  },
  {
   "cell_type": "code",
   "execution_count": 30,
   "metadata": {},
   "outputs": [],
   "source": [
    "QUERY_CROP = 'Tärkkelysperuna'\n",
    "QUERY_FIELD = 'KASVIKOODI_SELITE_FI'"
   ]
  },
  {
   "cell_type": "code",
   "execution_count": 5,
   "metadata": {},
   "outputs": [
    {
     "output_type": "stream",
     "name": "stdout",
     "text": [
      "epsg:3067\n"
     ]
    },
    {
     "output_type": "execute_result",
     "data": {
      "text/plain": [
       "         VUOSI PERUSLOHKOTUNNUS  LOHKONUMERO  PINTA_ALA KASVIKOODI  \\\n",
       "0         2021       9750800920            2       0.34       6111   \n",
       "1         2021       9750801021            1       6.07       1211   \n",
       "2         2021       9750801324            1       1.30       1120   \n",
       "3         2021       9750801526            1       1.57       1310   \n",
       "4         2021       9750801728            1       0.08       1400   \n",
       "...        ...              ...          ...        ...        ...   \n",
       "1086360   2021       9780256685            1       3.22       6050   \n",
       "1086361   2021       9780256685            2       0.31       9405   \n",
       "1086362   2021       9780256786            1       0.85       6121   \n",
       "1086363   2021       9780256887            1       2.98       1400   \n",
       "1086364   2021       9780257392            1       1.62       1400   \n",
       "\n",
       "                                      KASVIKOODI_SELITE_FI  \\\n",
       "0         1-vuot. kuivaheinä-, säilörehu-, tuorerehunurmet   \n",
       "1                                           Kevätruisvehnä   \n",
       "2                                               Kevätvehnä   \n",
       "3                                                 Rehuohra   \n",
       "4                                                    Kaura   \n",
       "...                                                    ...   \n",
       "1086360                                Viherlannoitusnurmi   \n",
       "1086361         Luonnonhoitopelto (nurmikasvit, väh. 2 v.)   \n",
       "1086362  Moniv. kuivaheinä-, säilörehu- ja tuorerehunurmet   \n",
       "1086363                                              Kaura   \n",
       "1086364                                              Kaura   \n",
       "\n",
       "                                   KASVIKOODI_SELITE_SV  \\\n",
       "0         Ettårig torrhö-, ensilage- och färskfodervall   \n",
       "1                                            Vårrågvete   \n",
       "2                                               Vårvete   \n",
       "3                                             Foderkorn   \n",
       "4                                                 Havre   \n",
       "...                                                 ...   \n",
       "1086360                               Gröngödslingsvall   \n",
       "1086361         Naturvårdsåker (vallväxter, minst 2 år)   \n",
       "1086362  Flerårig torrhö-, ensilage- och färskfodervall   \n",
       "1086363                                           Havre   \n",
       "1086364                                           Havre   \n",
       "\n",
       "                                                  geometry  \n",
       "0        POLYGON ((278423.630 6997822.586, 278422.868 6...  \n",
       "1        POLYGON ((270894.941 6980961.381, 270888.388 6...  \n",
       "2        POLYGON ((285759.980 6987149.832, 285780.457 6...  \n",
       "3        POLYGON ((283321.739 6988247.270, 283322.352 6...  \n",
       "4        POLYGON ((271546.555 6987023.699, 271547.693 6...  \n",
       "...                                                    ...  \n",
       "1086360  POLYGON ((556630.102 6746963.178, 556629.399 6...  \n",
       "1086361  POLYGON ((556811.500 6746975.000, 556809.500 6...  \n",
       "1086362  POLYGON ((553286.591 6747546.710, 553285.522 6...  \n",
       "1086363  POLYGON ((551218.375 6737194.648, 551241.693 6...  \n",
       "1086364  POLYGON ((564882.821 6745150.482, 564876.653 6...  \n",
       "\n",
       "[1086365 rows x 8 columns]"
      ],
      "text/html": "<div>\n<style scoped>\n    .dataframe tbody tr th:only-of-type {\n        vertical-align: middle;\n    }\n\n    .dataframe tbody tr th {\n        vertical-align: top;\n    }\n\n    .dataframe thead th {\n        text-align: right;\n    }\n</style>\n<table border=\"1\" class=\"dataframe\">\n  <thead>\n    <tr style=\"text-align: right;\">\n      <th></th>\n      <th>VUOSI</th>\n      <th>PERUSLOHKOTUNNUS</th>\n      <th>LOHKONUMERO</th>\n      <th>PINTA_ALA</th>\n      <th>KASVIKOODI</th>\n      <th>KASVIKOODI_SELITE_FI</th>\n      <th>KASVIKOODI_SELITE_SV</th>\n      <th>geometry</th>\n    </tr>\n  </thead>\n  <tbody>\n    <tr>\n      <th>0</th>\n      <td>2021</td>\n      <td>9750800920</td>\n      <td>2</td>\n      <td>0.34</td>\n      <td>6111</td>\n      <td>1-vuot. kuivaheinä-, säilörehu-, tuorerehunurmet</td>\n      <td>Ettårig torrhö-, ensilage- och färskfodervall</td>\n      <td>POLYGON ((278423.630 6997822.586, 278422.868 6...</td>\n    </tr>\n    <tr>\n      <th>1</th>\n      <td>2021</td>\n      <td>9750801021</td>\n      <td>1</td>\n      <td>6.07</td>\n      <td>1211</td>\n      <td>Kevätruisvehnä</td>\n      <td>Vårrågvete</td>\n      <td>POLYGON ((270894.941 6980961.381, 270888.388 6...</td>\n    </tr>\n    <tr>\n      <th>2</th>\n      <td>2021</td>\n      <td>9750801324</td>\n      <td>1</td>\n      <td>1.30</td>\n      <td>1120</td>\n      <td>Kevätvehnä</td>\n      <td>Vårvete</td>\n      <td>POLYGON ((285759.980 6987149.832, 285780.457 6...</td>\n    </tr>\n    <tr>\n      <th>3</th>\n      <td>2021</td>\n      <td>9750801526</td>\n      <td>1</td>\n      <td>1.57</td>\n      <td>1310</td>\n      <td>Rehuohra</td>\n      <td>Foderkorn</td>\n      <td>POLYGON ((283321.739 6988247.270, 283322.352 6...</td>\n    </tr>\n    <tr>\n      <th>4</th>\n      <td>2021</td>\n      <td>9750801728</td>\n      <td>1</td>\n      <td>0.08</td>\n      <td>1400</td>\n      <td>Kaura</td>\n      <td>Havre</td>\n      <td>POLYGON ((271546.555 6987023.699, 271547.693 6...</td>\n    </tr>\n    <tr>\n      <th>...</th>\n      <td>...</td>\n      <td>...</td>\n      <td>...</td>\n      <td>...</td>\n      <td>...</td>\n      <td>...</td>\n      <td>...</td>\n      <td>...</td>\n    </tr>\n    <tr>\n      <th>1086360</th>\n      <td>2021</td>\n      <td>9780256685</td>\n      <td>1</td>\n      <td>3.22</td>\n      <td>6050</td>\n      <td>Viherlannoitusnurmi</td>\n      <td>Gröngödslingsvall</td>\n      <td>POLYGON ((556630.102 6746963.178, 556629.399 6...</td>\n    </tr>\n    <tr>\n      <th>1086361</th>\n      <td>2021</td>\n      <td>9780256685</td>\n      <td>2</td>\n      <td>0.31</td>\n      <td>9405</td>\n      <td>Luonnonhoitopelto (nurmikasvit, väh. 2 v.)</td>\n      <td>Naturvårdsåker (vallväxter, minst 2 år)</td>\n      <td>POLYGON ((556811.500 6746975.000, 556809.500 6...</td>\n    </tr>\n    <tr>\n      <th>1086362</th>\n      <td>2021</td>\n      <td>9780256786</td>\n      <td>1</td>\n      <td>0.85</td>\n      <td>6121</td>\n      <td>Moniv. kuivaheinä-, säilörehu- ja tuorerehunurmet</td>\n      <td>Flerårig torrhö-, ensilage- och färskfodervall</td>\n      <td>POLYGON ((553286.591 6747546.710, 553285.522 6...</td>\n    </tr>\n    <tr>\n      <th>1086363</th>\n      <td>2021</td>\n      <td>9780256887</td>\n      <td>1</td>\n      <td>2.98</td>\n      <td>1400</td>\n      <td>Kaura</td>\n      <td>Havre</td>\n      <td>POLYGON ((551218.375 6737194.648, 551241.693 6...</td>\n    </tr>\n    <tr>\n      <th>1086364</th>\n      <td>2021</td>\n      <td>9780257392</td>\n      <td>1</td>\n      <td>1.62</td>\n      <td>1400</td>\n      <td>Kaura</td>\n      <td>Havre</td>\n      <td>POLYGON ((564882.821 6745150.482, 564876.653 6...</td>\n    </tr>\n  </tbody>\n</table>\n<p>1086365 rows × 8 columns</p>\n</div>"
     },
     "metadata": {},
     "execution_count": 5
    }
   ],
   "source": [
    "\n",
    "gdf = gpd.read_file(\"../../../LandUse.ExistingLandUse.GSAAAgriculturalParcel.gpkg\")\n",
    "print(gdf.crs) # epsg:3067\n",
    "gdf"
   ]
  },
  {
   "cell_type": "code",
   "execution_count": 28,
   "metadata": {},
   "outputs": [
    {
     "output_type": "error",
     "ename": "KeyError",
     "evalue": "'KASVIKOODI_SELITE_FI'",
     "traceback": [
      "\u001b[0;31m---------------------------------------------------------------------------\u001b[0m",
      "\u001b[0;31mKeyError\u001b[0m                                  Traceback (most recent call last)",
      "\u001b[0;32m/opt/anaconda3/envs/finaware/lib/python3.7/site-packages/pandas/core/indexes/base.py\u001b[0m in \u001b[0;36mget_loc\u001b[0;34m(self, key, method, tolerance)\u001b[0m\n\u001b[1;32m   3360\u001b[0m             \u001b[0;32mtry\u001b[0m\u001b[0;34m:\u001b[0m\u001b[0;34m\u001b[0m\u001b[0;34m\u001b[0m\u001b[0m\n\u001b[0;32m-> 3361\u001b[0;31m                 \u001b[0;32mreturn\u001b[0m \u001b[0mself\u001b[0m\u001b[0;34m.\u001b[0m\u001b[0m_engine\u001b[0m\u001b[0;34m.\u001b[0m\u001b[0mget_loc\u001b[0m\u001b[0;34m(\u001b[0m\u001b[0mcasted_key\u001b[0m\u001b[0;34m)\u001b[0m\u001b[0;34m\u001b[0m\u001b[0;34m\u001b[0m\u001b[0m\n\u001b[0m\u001b[1;32m   3362\u001b[0m             \u001b[0;32mexcept\u001b[0m \u001b[0mKeyError\u001b[0m \u001b[0;32mas\u001b[0m \u001b[0merr\u001b[0m\u001b[0;34m:\u001b[0m\u001b[0;34m\u001b[0m\u001b[0;34m\u001b[0m\u001b[0m\n",
      "\u001b[0;32m/opt/anaconda3/envs/finaware/lib/python3.7/site-packages/pandas/_libs/index.pyx\u001b[0m in \u001b[0;36mpandas._libs.index.IndexEngine.get_loc\u001b[0;34m()\u001b[0m\n",
      "\u001b[0;32m/opt/anaconda3/envs/finaware/lib/python3.7/site-packages/pandas/_libs/index.pyx\u001b[0m in \u001b[0;36mpandas._libs.index.IndexEngine.get_loc\u001b[0;34m()\u001b[0m\n",
      "\u001b[0;32mpandas/_libs/hashtable_class_helper.pxi\u001b[0m in \u001b[0;36mpandas._libs.hashtable.PyObjectHashTable.get_item\u001b[0;34m()\u001b[0m\n",
      "\u001b[0;32mpandas/_libs/hashtable_class_helper.pxi\u001b[0m in \u001b[0;36mpandas._libs.hashtable.PyObjectHashTable.get_item\u001b[0;34m()\u001b[0m\n",
      "\u001b[0;31mKeyError\u001b[0m: 'KASVIKOODI_SELITE_FI'",
      "\nThe above exception was the direct cause of the following exception:\n",
      "\u001b[0;31mKeyError\u001b[0m                                  Traceback (most recent call last)",
      "\u001b[0;32m/var/folders/xs/xbs98krd6wl5nfps969lgj_nq7ng55/T/ipykernel_40211/439985408.py\u001b[0m in \u001b[0;36m<module>\u001b[0;34m\u001b[0m\n\u001b[0;32m----> 1\u001b[0;31m \u001b[0mstarch_fields\u001b[0m \u001b[0;34m=\u001b[0m \u001b[0mgdf\u001b[0m\u001b[0;34m[\u001b[0m\u001b[0mgdf\u001b[0m\u001b[0;34m[\u001b[0m\u001b[0;34m'KASVIKOODI_SELITE_FI'\u001b[0m\u001b[0;34m]\u001b[0m \u001b[0;34m==\u001b[0m \u001b[0mQUERY_CROP\u001b[0m\u001b[0;34m]\u001b[0m\u001b[0;34m\u001b[0m\u001b[0;34m\u001b[0m\u001b[0m\n\u001b[0m\u001b[1;32m      2\u001b[0m \u001b[0mprint\u001b[0m\u001b[0;34m(\u001b[0m\u001b[0mstarch_fields\u001b[0m\u001b[0;34m)\u001b[0m\u001b[0;34m\u001b[0m\u001b[0;34m\u001b[0m\u001b[0m\n\u001b[1;32m      3\u001b[0m \u001b[0;31m# 2659 rows\u001b[0m\u001b[0;34m\u001b[0m\u001b[0;34m\u001b[0m\u001b[0;34m\u001b[0m\u001b[0m\n\u001b[1;32m      4\u001b[0m \u001b[0;31m# gdf = gdf.to_crs(\"EPSG:4326\")\u001b[0m\u001b[0;34m\u001b[0m\u001b[0;34m\u001b[0m\u001b[0;34m\u001b[0m\u001b[0m\n",
      "\u001b[0;32m/opt/anaconda3/envs/finaware/lib/python3.7/site-packages/geopandas/geodataframe.py\u001b[0m in \u001b[0;36m__getitem__\u001b[0;34m(self, key)\u001b[0m\n\u001b[1;32m   1297\u001b[0m         \u001b[0mGeoDataFrame\u001b[0m\u001b[0;34m.\u001b[0m\u001b[0;34m\u001b[0m\u001b[0;34m\u001b[0m\u001b[0m\n\u001b[1;32m   1298\u001b[0m         \"\"\"\n\u001b[0;32m-> 1299\u001b[0;31m         \u001b[0mresult\u001b[0m \u001b[0;34m=\u001b[0m \u001b[0msuper\u001b[0m\u001b[0;34m(\u001b[0m\u001b[0mGeoDataFrame\u001b[0m\u001b[0;34m,\u001b[0m \u001b[0mself\u001b[0m\u001b[0;34m)\u001b[0m\u001b[0;34m.\u001b[0m\u001b[0m__getitem__\u001b[0m\u001b[0;34m(\u001b[0m\u001b[0mkey\u001b[0m\u001b[0;34m)\u001b[0m\u001b[0;34m\u001b[0m\u001b[0;34m\u001b[0m\u001b[0m\n\u001b[0m\u001b[1;32m   1300\u001b[0m         \u001b[0mgeo_col\u001b[0m \u001b[0;34m=\u001b[0m \u001b[0mself\u001b[0m\u001b[0;34m.\u001b[0m\u001b[0m_geometry_column_name\u001b[0m\u001b[0;34m\u001b[0m\u001b[0;34m\u001b[0m\u001b[0m\n\u001b[1;32m   1301\u001b[0m         \u001b[0;32mif\u001b[0m \u001b[0misinstance\u001b[0m\u001b[0;34m(\u001b[0m\u001b[0mresult\u001b[0m\u001b[0;34m,\u001b[0m \u001b[0mSeries\u001b[0m\u001b[0;34m)\u001b[0m \u001b[0;32mand\u001b[0m \u001b[0misinstance\u001b[0m\u001b[0;34m(\u001b[0m\u001b[0mresult\u001b[0m\u001b[0;34m.\u001b[0m\u001b[0mdtype\u001b[0m\u001b[0;34m,\u001b[0m \u001b[0mGeometryDtype\u001b[0m\u001b[0;34m)\u001b[0m\u001b[0;34m:\u001b[0m\u001b[0;34m\u001b[0m\u001b[0;34m\u001b[0m\u001b[0m\n",
      "\u001b[0;32m/opt/anaconda3/envs/finaware/lib/python3.7/site-packages/pandas/core/frame.py\u001b[0m in \u001b[0;36m__getitem__\u001b[0;34m(self, key)\u001b[0m\n\u001b[1;32m   3456\u001b[0m             \u001b[0;32mif\u001b[0m \u001b[0mself\u001b[0m\u001b[0;34m.\u001b[0m\u001b[0mcolumns\u001b[0m\u001b[0;34m.\u001b[0m\u001b[0mnlevels\u001b[0m \u001b[0;34m>\u001b[0m \u001b[0;36m1\u001b[0m\u001b[0;34m:\u001b[0m\u001b[0;34m\u001b[0m\u001b[0;34m\u001b[0m\u001b[0m\n\u001b[1;32m   3457\u001b[0m                 \u001b[0;32mreturn\u001b[0m \u001b[0mself\u001b[0m\u001b[0;34m.\u001b[0m\u001b[0m_getitem_multilevel\u001b[0m\u001b[0;34m(\u001b[0m\u001b[0mkey\u001b[0m\u001b[0;34m)\u001b[0m\u001b[0;34m\u001b[0m\u001b[0;34m\u001b[0m\u001b[0m\n\u001b[0;32m-> 3458\u001b[0;31m             \u001b[0mindexer\u001b[0m \u001b[0;34m=\u001b[0m \u001b[0mself\u001b[0m\u001b[0;34m.\u001b[0m\u001b[0mcolumns\u001b[0m\u001b[0;34m.\u001b[0m\u001b[0mget_loc\u001b[0m\u001b[0;34m(\u001b[0m\u001b[0mkey\u001b[0m\u001b[0;34m)\u001b[0m\u001b[0;34m\u001b[0m\u001b[0;34m\u001b[0m\u001b[0m\n\u001b[0m\u001b[1;32m   3459\u001b[0m             \u001b[0;32mif\u001b[0m \u001b[0mis_integer\u001b[0m\u001b[0;34m(\u001b[0m\u001b[0mindexer\u001b[0m\u001b[0;34m)\u001b[0m\u001b[0;34m:\u001b[0m\u001b[0;34m\u001b[0m\u001b[0;34m\u001b[0m\u001b[0m\n\u001b[1;32m   3460\u001b[0m                 \u001b[0mindexer\u001b[0m \u001b[0;34m=\u001b[0m \u001b[0;34m[\u001b[0m\u001b[0mindexer\u001b[0m\u001b[0;34m]\u001b[0m\u001b[0;34m\u001b[0m\u001b[0;34m\u001b[0m\u001b[0m\n",
      "\u001b[0;32m/opt/anaconda3/envs/finaware/lib/python3.7/site-packages/pandas/core/indexes/base.py\u001b[0m in \u001b[0;36mget_loc\u001b[0;34m(self, key, method, tolerance)\u001b[0m\n\u001b[1;32m   3361\u001b[0m                 \u001b[0;32mreturn\u001b[0m \u001b[0mself\u001b[0m\u001b[0;34m.\u001b[0m\u001b[0m_engine\u001b[0m\u001b[0;34m.\u001b[0m\u001b[0mget_loc\u001b[0m\u001b[0;34m(\u001b[0m\u001b[0mcasted_key\u001b[0m\u001b[0;34m)\u001b[0m\u001b[0;34m\u001b[0m\u001b[0;34m\u001b[0m\u001b[0m\n\u001b[1;32m   3362\u001b[0m             \u001b[0;32mexcept\u001b[0m \u001b[0mKeyError\u001b[0m \u001b[0;32mas\u001b[0m \u001b[0merr\u001b[0m\u001b[0;34m:\u001b[0m\u001b[0;34m\u001b[0m\u001b[0;34m\u001b[0m\u001b[0m\n\u001b[0;32m-> 3363\u001b[0;31m                 \u001b[0;32mraise\u001b[0m \u001b[0mKeyError\u001b[0m\u001b[0;34m(\u001b[0m\u001b[0mkey\u001b[0m\u001b[0;34m)\u001b[0m \u001b[0;32mfrom\u001b[0m \u001b[0merr\u001b[0m\u001b[0;34m\u001b[0m\u001b[0;34m\u001b[0m\u001b[0m\n\u001b[0m\u001b[1;32m   3364\u001b[0m \u001b[0;34m\u001b[0m\u001b[0m\n\u001b[1;32m   3365\u001b[0m         \u001b[0;32mif\u001b[0m \u001b[0mis_scalar\u001b[0m\u001b[0;34m(\u001b[0m\u001b[0mkey\u001b[0m\u001b[0;34m)\u001b[0m \u001b[0;32mand\u001b[0m \u001b[0misna\u001b[0m\u001b[0;34m(\u001b[0m\u001b[0mkey\u001b[0m\u001b[0;34m)\u001b[0m \u001b[0;32mand\u001b[0m \u001b[0;32mnot\u001b[0m \u001b[0mself\u001b[0m\u001b[0;34m.\u001b[0m\u001b[0mhasnans\u001b[0m\u001b[0;34m:\u001b[0m\u001b[0;34m\u001b[0m\u001b[0;34m\u001b[0m\u001b[0m\n",
      "\u001b[0;31mKeyError\u001b[0m: 'KASVIKOODI_SELITE_FI'"
     ]
    }
   ],
   "source": [
    "starch_fields = gdf[gdf[QUERY_FIELD] == QUERY_CROP]\n",
    "print(starch_fields)\n",
    "# 2659 rows \n",
    "# gdf = gdf.to_crs(\"EPSG:4326\") "
   ]
  },
  {
   "cell_type": "code",
   "execution_count": null,
   "metadata": {},
   "outputs": [],
   "source": []
  },
  {
   "cell_type": "code",
   "execution_count": 24,
   "metadata": {},
   "outputs": [
    {
     "output_type": "execute_result",
     "data": {
      "text/plain": [
       "        point  cell               grid        lat        lon\n",
       "0     2831313   375  COPERNICUS SWI TS  60.300392  24.415195\n",
       "1     2831317   375  COPERNICUS SWI TS  60.300392  24.641264\n",
       "2     2831321   375  COPERNICUS SWI TS  60.300392  24.867331\n",
       "3     2831325   375  COPERNICUS SWI TS  60.300392  25.093397\n",
       "4     2831329   375  COPERNICUS SWI TS  60.300392  25.319464\n",
       "...       ...   ...                ...        ...        ...\n",
       "2106  2831297   375  COPERNICUS SWI TS  60.300392  23.510929\n",
       "2107  2831301   375  COPERNICUS SWI TS  60.300392  23.736996\n",
       "2108  2831305   375  COPERNICUS SWI TS  60.300392  23.963062\n",
       "2109  2831309   375  COPERNICUS SWI TS  60.300392  24.189129\n",
       "2110  2828039   357  COPERNICUS SWI TS  60.188198  19.825953\n",
       "\n",
       "[2111 rows x 5 columns]"
      ],
      "text/html": "<div>\n<style scoped>\n    .dataframe tbody tr th:only-of-type {\n        vertical-align: middle;\n    }\n\n    .dataframe tbody tr th {\n        vertical-align: top;\n    }\n\n    .dataframe thead th {\n        text-align: right;\n    }\n</style>\n<table border=\"1\" class=\"dataframe\">\n  <thead>\n    <tr style=\"text-align: right;\">\n      <th></th>\n      <th>point</th>\n      <th>cell</th>\n      <th>grid</th>\n      <th>lat</th>\n      <th>lon</th>\n    </tr>\n  </thead>\n  <tbody>\n    <tr>\n      <th>0</th>\n      <td>2831313</td>\n      <td>375</td>\n      <td>COPERNICUS SWI TS</td>\n      <td>60.300392</td>\n      <td>24.415195</td>\n    </tr>\n    <tr>\n      <th>1</th>\n      <td>2831317</td>\n      <td>375</td>\n      <td>COPERNICUS SWI TS</td>\n      <td>60.300392</td>\n      <td>24.641264</td>\n    </tr>\n    <tr>\n      <th>2</th>\n      <td>2831321</td>\n      <td>375</td>\n      <td>COPERNICUS SWI TS</td>\n      <td>60.300392</td>\n      <td>24.867331</td>\n    </tr>\n    <tr>\n      <th>3</th>\n      <td>2831325</td>\n      <td>375</td>\n      <td>COPERNICUS SWI TS</td>\n      <td>60.300392</td>\n      <td>25.093397</td>\n    </tr>\n    <tr>\n      <th>4</th>\n      <td>2831329</td>\n      <td>375</td>\n      <td>COPERNICUS SWI TS</td>\n      <td>60.300392</td>\n      <td>25.319464</td>\n    </tr>\n    <tr>\n      <th>...</th>\n      <td>...</td>\n      <td>...</td>\n      <td>...</td>\n      <td>...</td>\n      <td>...</td>\n    </tr>\n    <tr>\n      <th>2106</th>\n      <td>2831297</td>\n      <td>375</td>\n      <td>COPERNICUS SWI TS</td>\n      <td>60.300392</td>\n      <td>23.510929</td>\n    </tr>\n    <tr>\n      <th>2107</th>\n      <td>2831301</td>\n      <td>375</td>\n      <td>COPERNICUS SWI TS</td>\n      <td>60.300392</td>\n      <td>23.736996</td>\n    </tr>\n    <tr>\n      <th>2108</th>\n      <td>2831305</td>\n      <td>375</td>\n      <td>COPERNICUS SWI TS</td>\n      <td>60.300392</td>\n      <td>23.963062</td>\n    </tr>\n    <tr>\n      <th>2109</th>\n      <td>2831309</td>\n      <td>375</td>\n      <td>COPERNICUS SWI TS</td>\n      <td>60.300392</td>\n      <td>24.189129</td>\n    </tr>\n    <tr>\n      <th>2110</th>\n      <td>2828039</td>\n      <td>357</td>\n      <td>COPERNICUS SWI TS</td>\n      <td>60.188198</td>\n      <td>19.825953</td>\n    </tr>\n  </tbody>\n</table>\n<p>2111 rows × 5 columns</p>\n</div>"
     },
     "metadata": {},
     "execution_count": 24
    }
   ],
   "source": [
    "# Filter finland points to only starch_fields\n",
    "pg_finland = pd.read_csv(\"../../../Download_SWI/pointlist_Finland_copernicus_swi_ts.csv\")\n",
    "pg_finland\n"
   ]
  }
 ]
}