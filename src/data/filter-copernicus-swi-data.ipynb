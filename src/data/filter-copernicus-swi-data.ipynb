{
 "metadata": {
  "language_info": {
   "codemirror_mode": {
    "name": "ipython",
    "version": 3
   },
   "file_extension": ".py",
   "mimetype": "text/x-python",
   "name": "python",
   "nbconvert_exporter": "python",
   "pygments_lexer": "ipython3",
   "version": "3.7.13-final"
  },
  "orig_nbformat": 2,
  "kernelspec": {
   "name": "python371364bitfinawareconda8907fd495d194fac92ae078e5795ec2f",
   "display_name": "Python 3.7.13 64-bit ('finaware': conda)"
  }
 },
 "nbformat": 4,
 "nbformat_minor": 2,
 "cells": [
  {
   "cell_type": "code",
   "execution_count": 3,
   "metadata": {},
   "outputs": [],
   "source": [
    "import os\n",
    "import netCDF4\n",
    "import numpy as np\n",
    "import matplotlib.pyplot as plt"
   ]
  },
  {
   "cell_type": "code",
   "execution_count": 23,
   "metadata": {},
   "outputs": [],
   "source": [
    "gp = 2952799\n",
    "path_to_nc_file = \"../../../Download_SWI/c_gls_SWI1km_202107011200_CEURO_SCATSAR_V1.0.1.nc\""
   ]
  },
  {
   "cell_type": "code",
   "execution_count": null,
   "metadata": {},
   "outputs": [],
   "source": [
    "# Get point grid (pg) identifiers from https://dgg.geo.tuwien.ac.at/\n",
    "pg_finland = \"/Users/casado/projects/CASSINI/Download_SWI/pointlist_Finland_copernicus_swi_ts.csv\""
   ]
  },
  {
   "cell_type": "code",
   "execution_count": 28,
   "metadata": {},
   "outputs": [
    {
     "output_type": "error",
     "ename": "AttributeError",
     "evalue": "NetCDF: Attribute not found",
     "traceback": [
      "\u001b[0;31m---------------------------------------------------------------------------\u001b[0m",
      "\u001b[0;31mAttributeError\u001b[0m                            Traceback (most recent call last)",
      "\u001b[0;32m/var/folders/xs/xbs98krd6wl5nfps969lgj_nq7ng55/T/ipykernel_75338/84997370.py\u001b[0m in \u001b[0;36m<module>\u001b[0;34m\u001b[0m\n\u001b[1;32m      1\u001b[0m \u001b[0;32mwith\u001b[0m \u001b[0mnetCDF4\u001b[0m\u001b[0;34m.\u001b[0m\u001b[0mDataset\u001b[0m\u001b[0;34m(\u001b[0m\u001b[0mpath_to_nc_file\u001b[0m\u001b[0;34m)\u001b[0m \u001b[0;32mas\u001b[0m \u001b[0mncdata\u001b[0m\u001b[0;34m:\u001b[0m\u001b[0;34m\u001b[0m\u001b[0;34m\u001b[0m\u001b[0m\n\u001b[1;32m      2\u001b[0m     \u001b[0;31m#loc_idx = np.where(ncdata.variables['location_id'][:] == gp)[0]\u001b[0m\u001b[0;34m\u001b[0m\u001b[0;34m\u001b[0m\u001b[0;34m\u001b[0m\u001b[0m\n\u001b[0;32m----> 3\u001b[0;31m     \u001b[0mswi15\u001b[0m \u001b[0;34m=\u001b[0m \u001b[0mncdata\u001b[0m\u001b[0;34m[\u001b[0m\u001b[0;34m'SWI_015'\u001b[0m\u001b[0;34m]\u001b[0m\u001b[0;34m.\u001b[0m\u001b[0mvalues\u001b[0m\u001b[0;34m(\u001b[0m\u001b[0;34m)\u001b[0m\u001b[0;34m\u001b[0m\u001b[0;34m\u001b[0m\u001b[0m\n\u001b[0m\u001b[1;32m      4\u001b[0m     \u001b[0mprint\u001b[0m\u001b[0;34m(\u001b[0m\u001b[0mswi15\u001b[0m\u001b[0;34m)\u001b[0m\u001b[0;34m\u001b[0m\u001b[0;34m\u001b[0m\u001b[0m\n\u001b[1;32m      5\u001b[0m     \u001b[0;31m#print(loc_idx)\u001b[0m\u001b[0;34m\u001b[0m\u001b[0;34m\u001b[0m\u001b[0;34m\u001b[0m\u001b[0m\n",
      "\u001b[0;32msrc/netCDF4/_netCDF4.pyx\u001b[0m in \u001b[0;36mnetCDF4._netCDF4.Variable.__getattr__\u001b[0;34m()\u001b[0m\n",
      "\u001b[0;32msrc/netCDF4/_netCDF4.pyx\u001b[0m in \u001b[0;36mnetCDF4._netCDF4.Variable.getncattr\u001b[0;34m()\u001b[0m\n",
      "\u001b[0;32msrc/netCDF4/_netCDF4.pyx\u001b[0m in \u001b[0;36mnetCDF4._netCDF4._get_att\u001b[0;34m()\u001b[0m\n",
      "\u001b[0;32msrc/netCDF4/_netCDF4.pyx\u001b[0m in \u001b[0;36mnetCDF4._netCDF4._ensure_nc_success\u001b[0;34m()\u001b[0m\n",
      "\u001b[0;31mAttributeError\u001b[0m: NetCDF: Attribute not found"
     ]
    }
   ],
   "source": [
    "with netCDF4.Dataset(path_to_nc_file) as ncdata:\n",
    "    #loc_idx = np.where(ncdata.variables['location_id'][:] == gp)[0]\n",
    "    swi15 = ncdata['SWI_015'].values()\n",
    "    print(swi15)\n",
    "    #print(loc_idx)"
   ]
  },
  {
   "cell_type": "code",
   "execution_count": 49,
   "metadata": {},
   "outputs": [
    {
     "output_type": "stream",
     "name": "stderr",
     "text": [
      "2022-11-05 20:32:05,544 INFO Welcome to the CDS\n",
      "2022-11-05 20:32:05,545 INFO Sending request to https://cds.climate.copernicus.eu/api/v2/resources/satellite-soil-moisture\n",
      "2022-11-05 20:32:05,617 INFO Request is queued\n",
      "2022-11-05 20:32:06,673 INFO Request is running\n",
      "2022-11-05 20:38:24,241 INFO Request is completed\n",
      "2022-11-05 20:38:24,241 INFO Downloading https://download-0014-clone.copernicus-climate.eu/cache-compute-0014/cache/data0/dataset-satellite-soil-moisture-f8a37485-3775-4c81-9601-eec205e7c2d9.zip to download.zip (817.4M)\n",
      "2022-11-05 20:57:49,399 INFO Download rate 718.4K/s\n"
     ]
    },
    {
     "output_type": "execute_result",
     "data": {
      "text/plain": [
       "Result(content_length=857119050,content_type=application/zip,location=https://download-0014-clone.copernicus-climate.eu/cache-compute-0014/cache/data0/dataset-satellite-soil-moisture-f8a37485-3775-4c81-9601-eec205e7c2d9.zip)"
      ]
     },
     "metadata": {},
     "execution_count": 49
    }
   ],
   "source": [
    "import cdsapi\n",
    "\n",
    "c = cdsapi.Client()\n",
    "\n",
    "c.retrieve(\n",
    "    'satellite-soil-moisture',\n",
    "    {\n",
    "        'format': 'zip',\n",
    "        'variable': 'surface_soil_moisture',\n",
    "        'time_aggregation': 'day_average',\n",
    "        'year': [\n",
    "            '2017', '2018', '2019',\n",
    "            '2020',\n",
    "        ],\n",
    "        'month': [\n",
    "            '05', '06', '07',\n",
    "            '08',\n",
    "        ],\n",
    "        'day': [\n",
    "            '01', '02', '03',\n",
    "            '04', '05', '06',\n",
    "            '07', '08', '09',\n",
    "            '10', '11', '12',\n",
    "            '13', '14', '15',\n",
    "            '16', '17', '18',\n",
    "            '19', '20', '21',\n",
    "            '22', '23', '24',\n",
    "            '25', '26', '27',\n",
    "            '28', '29', '30',\n",
    "            '31',\n",
    "        ],\n",
    "        'type_of_record': 'cdr',\n",
    "        'version': 'v202012.0.0',\n",
    "        'type_of_sensor': 'active',\n",
    "    },\n",
    "    'download.zip')"
   ]
  },
  {
   "cell_type": "code",
   "execution_count": 30,
   "metadata": {},
   "outputs": [],
   "source": [
    "filepath=\"download/C3S-SOILMOISTURE-L3S-SSMV-PASSIVE-DAILY-20220926000000-ICDR-v202012.0.1.nc\"\n",
    "nc = netCDF4.Dataset(filepath)"
   ]
  },
  {
   "cell_type": "code",
   "execution_count": 48,
   "metadata": {},
   "outputs": [
    {
     "output_type": "execute_result",
     "data": {
      "text/plain": [
       "masked_array(\n",
       "  data=[],\n",
       "  mask=False,\n",
       "  fill_value=1e+20,\n",
       "  dtype=float32)"
      ]
     },
     "metadata": {},
     "execution_count": 48
    }
   ],
   "source": [
    "nc.variables['sm'][60:30]\n",
    "\n"
   ]
  }
 ]
}